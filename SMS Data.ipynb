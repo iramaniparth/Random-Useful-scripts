{
 "cells": [
  {
   "cell_type": "code",
   "execution_count": 7,
   "metadata": {
    "collapsed": true
   },
   "outputs": [],
   "source": [
    "import pandas as pd\n",
    "import os\n",
    "import tkinter as tk\n",
    "import tkinter.filedialog as tkfd"
   ]
  },
  {
   "cell_type": "code",
   "execution_count": 3,
   "metadata": {
    "collapsed": true
   },
   "outputs": [],
   "source": [
    "tk.Tk().withdraw()\n",
    "path = tkfd.askdirectory()"
   ]
  },
  {
   "cell_type": "code",
   "execution_count": 8,
   "metadata": {},
   "outputs": [],
   "source": [
    "os.chdir(path=tkfd.askdirectory())\n",
    "sms_data = pd.read_csv(\"sms_spam.csv\")"
   ]
  },
  {
   "cell_type": "code",
   "execution_count": 25,
   "metadata": {},
   "outputs": [
    {
     "data": {
      "text/plain": [
       "\"stripped=[]\\nimport string\\ntable = str.maketrans('','', string.punctuation)\\nfor i in list(range(5574)):\\n    stripped.append([w.translate(table) for w in words[i]])\""
      ]
     },
     "execution_count": 25,
     "metadata": {},
     "output_type": "execute_result"
    }
   ],
   "source": [
    "words=[]\n",
    "for i in list(range(5574)):\n",
    "    words.append(sms_data[\"text\"].iloc[i].split())\n",
    "    \n",
    "'''stripped=[]\n",
    "import string\n",
    "table = str.maketrans('','', string.punctuation)\n",
    "for i in list(range(5574)):\n",
    "    stripped.append([w.translate(table) for w in words[i]])'''"
   ]
  },
  {
   "cell_type": "code",
   "execution_count": 40,
   "metadata": {},
   "outputs": [],
   "source": [
    "import nltk\n",
    "nltk.download('punkt')\n",
    "nltk.download('stopwords')"
   ]
  },
  {
   "cell_type": "code",
   "execution_count": 49,
   "metadata": {},
   "outputs": [],
   "source": [
    "from nltk.tokenize import word_tokenize\n",
    "tokens = []\n",
    "for i in list(range(5574)):\n",
    "    tokens.append(word_tokenize(sms_data[\"text\"].iloc[i]))\n",
    "\n",
    "for i in list(range(5574)):\n",
    "    tokens[i] = [w.lower() for w in tokens[i]]\n",
    "    \n",
    "import string\n",
    "table = str.maketrans('', '', string.punctuation)\n",
    "stripped=[]\n",
    "for i in list(range(5574)):\n",
    "    stripped.append([w.translate(table) for w in tokens[i]])\n",
    "    \n",
    "words = []\n",
    "for i in list(range(5574)):\n",
    "    words.append(word for word in stripped[i] if word.isalpha())\n",
    "    \n",
    "from nltk.corpus import stopwords\n",
    "stop_words = set(stopwords.words('english'))\n",
    "\n",
    "for i in list(range(5574)):\n",
    "    words[i] = [w for w in words[i] if not w in stop_words]\n",
    "    \n",
    "from nltk.stem.porter import PorterStemmer\n",
    "porter = PorterStemmer()\n",
    "stemmed = []\n",
    "\n",
    "for i in list(range(5574)):\n",
    "    stemmed.append([porter.stem(word) for word in words[i]])"
   ]
  },
  {
   "cell_type": "code",
   "execution_count": null,
   "metadata": {
    "scrolled": false
   },
   "outputs": [],
   "source": []
  },
  {
   "cell_type": "code",
   "execution_count": 74,
   "metadata": {},
   "outputs": [],
   "source": [
    "'''from fuzzywuzzy import fuzz\n",
    "from fuzzywuzzy import process"
   ]
  },
  {
   "cell_type": "code",
   "execution_count": 100,
   "metadata": {},
   "outputs": [],
   "source": [
    "'''query = 'debit'\n",
    "choices = []\n",
    "\n",
    "choices = stemmed\n",
    "    \n",
    "matches = []\n",
    "for i in list(range(5574)):\n",
    "    matches.append(process.extractOne(query, choices[i]))\n",
    "    \n",
    "# Can do the same for the words 'credit', 'balance', 'inr', 'acc', 'account', 'bal', 'bank'"
   ]
  },
  {
   "cell_type": "code",
   "execution_count": null,
   "metadata": {
    "collapsed": true
   },
   "outputs": [],
   "source": []
  },
  {
   "cell_type": "code",
   "execution_count": null,
   "metadata": {},
   "outputs": [],
   "source": []
  },
  {
   "cell_type": "code",
   "execution_count": null,
   "metadata": {
    "collapsed": true
   },
   "outputs": [],
   "source": []
  }
 ],
 "metadata": {
  "kernelspec": {
   "display_name": "Python 3",
   "language": "python",
   "name": "python3"
  },
  "language_info": {
   "codemirror_mode": {
    "name": "ipython",
    "version": 3
   },
   "file_extension": ".py",
   "mimetype": "text/x-python",
   "name": "python",
   "nbconvert_exporter": "python",
   "pygments_lexer": "ipython3",
   "version": "3.6.2"
  }
 },
 "nbformat": 4,
 "nbformat_minor": 2
}
